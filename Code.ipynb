{
 "cells": [
  {
   "cell_type": "code",
   "execution_count": 1,
   "metadata": {},
   "outputs": [],
   "source": [
    "import pandas as pd\n",
    "import numpy as np\n",
    "import bs4 as bs\n",
    "import urllib.request as ur\n",
    "import matplotlib.pyplot as plt\n",
    "from matplotlib import style\n",
    "import pickle"
   ]
  },
  {
   "cell_type": "markdown",
   "metadata": {},
   "source": [
    "### Function to get the page-source of the company's url"
   ]
  },
  {
   "cell_type": "code",
   "execution_count": 2,
   "metadata": {},
   "outputs": [],
   "source": [
    "def get_page_source(url):\n",
    "    with ur.urlopen(url) as page_source:\n",
    "        return page_source.read()"
   ]
  },
  {
   "cell_type": "markdown",
   "metadata": {},
   "source": [
    "### Function to scrape the page and return the data as a list"
   ]
  },
  {
   "cell_type": "code",
   "execution_count": 3,
   "metadata": {},
   "outputs": [],
   "source": [
    "def scraping(company):\n",
    "    scrape_data = []\n",
    "    page_url = \"https://markets.financialcontent.com/stocks/quote/historical?Symbol=%s&Month=6&Year=2018&Range=12\"\n",
    "    source = get_page_source(page_url % company)\n",
    "    soup = bs.BeautifulSoup(source, \"lxml\")\n",
    "    table_data = soup.find(\"table\", class_=\"quote_detailed_price_table data\").find_all(\"tr\")\n",
    "    for row in table_data:\n",
    "        r_data = row.find_all(\"td\")\n",
    "        scrape_data.append([data.text for data in r_data])\n",
    "    return scrape_data"
   ]
  },
  {
   "cell_type": "markdown",
   "metadata": {},
   "source": [
    "### Function to create the DataFrame with the scraped_data"
   ]
  },
  {
   "cell_type": "code",
   "execution_count": 4,
   "metadata": {},
   "outputs": [],
   "source": [
    "def create_dframe(scrape_data):\n",
    "    return pd.DataFrame(scrape_data, columns=[\"Date\", \"Open\", \"High\", \"Low\", \"Close\", \"Volume\", \"Change(%)\"]).set_index(\"Date\")"
   ]
  },
  {
   "cell_type": "markdown",
   "metadata": {},
   "source": [
    "### Funtion to store the DataFrame as .csv file"
   ]
  },
  {
   "cell_type": "code",
   "execution_count": 5,
   "metadata": {},
   "outputs": [],
   "source": [
    "def to_csv(frame, name):\n",
    "    frame.to_csv(f\"{name}_data.csv\", encoding=\"utf-8\")"
   ]
  },
  {
   "cell_type": "markdown",
   "metadata": {},
   "source": [
    "### Function to remove the commas from Volume, change data type to float and remove all NaN values"
   ]
  },
  {
   "cell_type": "code",
   "execution_count": 6,
   "metadata": {},
   "outputs": [],
   "source": [
    "def data_cleaning(company):\n",
    "    company[\"Volume\"] = company[\"Volume\"].str.replace(\",\", \"\").astype(float)\n",
    "    company.dropna(how=\"any\")"
   ]
  },
  {
   "cell_type": "code",
   "execution_count": 7,
   "metadata": {},
   "outputs": [],
   "source": [
    "companies = (\"AAPL\", \"GOOGL\", \"MSFT\")"
   ]
  },
  {
   "cell_type": "markdown",
   "metadata": {},
   "source": [
    "### Get the page-source, create DataFrame and store the data as .csv"
   ]
  },
  {
   "cell_type": "code",
   "execution_count": 8,
   "metadata": {},
   "outputs": [],
   "source": [
    "for company in companies:\n",
    "    scrape_data = scraping(company)\n",
    "    frame = create_dframe(scrape_data[1:])\n",
    "    to_csv(frame, company)"
   ]
  },
  {
   "cell_type": "markdown",
   "metadata": {},
   "source": [
    "### Get the from local storage to do further analysis"
   ]
  },
  {
   "cell_type": "code",
   "execution_count": 9,
   "metadata": {},
   "outputs": [],
   "source": [
    "apple = pd.read_csv(\"AAPL_data.csv\", index_col=\"Date\")\n",
    "google = pd.read_csv(\"GOOGL_data.csv\", index_col=\"Date\")\n",
    "microsoft = pd.read_csv(\"MSFT_data.csv\", index_col=\"Date\")"
   ]
  },
  {
   "cell_type": "code",
   "execution_count": 10,
   "metadata": {},
   "outputs": [],
   "source": [
    "companies = (apple, google, microsoft)"
   ]
  },
  {
   "cell_type": "markdown",
   "metadata": {},
   "source": [
    "### Converting Volume to float and removing all NaN values"
   ]
  },
  {
   "cell_type": "code",
   "execution_count": 11,
   "metadata": {},
   "outputs": [],
   "source": [
    "for company in companies:\n",
    "    data_cleaning(company)"
   ]
  },
  {
   "cell_type": "code",
   "execution_count": null,
   "metadata": {},
   "outputs": [],
   "source": []
  }
 ],
 "metadata": {
  "kernelspec": {
   "display_name": "Python 3",
   "language": "python",
   "name": "python3"
  },
  "language_info": {
   "codemirror_mode": {
    "name": "ipython",
    "version": 3
   },
   "file_extension": ".py",
   "mimetype": "text/x-python",
   "name": "python",
   "nbconvert_exporter": "python",
   "pygments_lexer": "ipython3",
   "version": "3.6.5"
  }
 },
 "nbformat": 4,
 "nbformat_minor": 2
}
